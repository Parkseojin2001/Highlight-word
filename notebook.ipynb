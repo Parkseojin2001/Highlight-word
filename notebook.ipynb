{
 "cells": [
  {
   "cell_type": "code",
   "execution_count": 11,
   "metadata": {},
   "outputs": [],
   "source": [
    "from langchain.prompts import PromptTemplate, ChatPromptTemplate\n",
    "from langchain.chat_models import ChatOpenAI"
   ]
  },
  {
   "cell_type": "code",
   "execution_count": 12,
   "metadata": {},
   "outputs": [],
   "source": [
    "llm = ChatOpenAI(\n",
    "    temperature=0.1,\n",
    ")"
   ]
  },
  {
   "cell_type": "code",
   "execution_count": 13,
   "metadata": {},
   "outputs": [],
   "source": [
    "template = PromptTemplate.from_template(\"Create a sentence that can be used in everyday life included {word}.\")"
   ]
  },
  {
   "cell_type": "code",
   "execution_count": 14,
   "metadata": {},
   "outputs": [],
   "source": [
    "words = [\"proceed\", \"nominate\", \"account\", \"detect\", \"assemble\", \"ensure\", \"determine\", \"designate\"]"
   ]
  },
  {
   "cell_type": "code",
   "execution_count": 15,
   "metadata": {},
   "outputs": [
    {
     "name": "stdout",
     "output_type": "stream",
     "text": [
      "After you finish your breakfast, you can proceed with your daily tasks for the day.\n",
      "I nominate my friend for the employee of the month award.\n",
      "I need to check my bank account to see if my paycheck has been deposited.\n",
      "I can detect a hint of cinnamon in this delicious apple pie.\n",
      "I need to assemble my new bookshelf before I can start organizing my books.\n",
      "Before leaving the house, ensure that you have your keys with you.\n",
      "I need to determine which route will be the fastest to get to work today.\n",
      "I have been asked to designate a team leader for our project.\n"
     ]
    }
   ],
   "source": [
    "for word in words:\n",
    "    prompt = template.format(word=word)\n",
    "    print(llm.predict(prompt))"
   ]
  }
 ],
 "metadata": {
  "kernelspec": {
   "display_name": "highlightWord",
   "language": "python",
   "name": "python3"
  },
  "language_info": {
   "codemirror_mode": {
    "name": "ipython",
    "version": 3
   },
   "file_extension": ".py",
   "mimetype": "text/x-python",
   "name": "python",
   "nbconvert_exporter": "python",
   "pygments_lexer": "ipython3",
   "version": "3.11.10"
  }
 },
 "nbformat": 4,
 "nbformat_minor": 2
}
